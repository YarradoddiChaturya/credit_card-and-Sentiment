{
 "cells": [
  {
   "cell_type": "markdown",
   "metadata": {},
   "source": [
    "# Machine Learning using Python \n",
    "# Exam – Paper \n",
    "## Part I: Unsupervised Learning \n",
    "## Problem Statements & Tasks:\n",
    "### The data ‘sentiment.csv’ contains all information about the tweet, but for this exercise, use the text and sentiment(only positive and negative sentiments) columns. Perform all the necessary data cleaning required and answer the questions below:\n",
    "### Q1. Print the total number of positive and negative sentiments.\n",
    "### Q1. Print the total number of positive and negative sentiments.\n",
    "### Q3. Based on the model, check the sentiment for the following two sentences\n",
    "#### a. 'He is a great leader.'\n",
    "#### b. 'He is a terrible leader.'"
   ]
  },
  {
   "cell_type": "code",
   "execution_count": 25,
   "metadata": {},
   "outputs": [],
   "source": [
    "import numpy as np\n",
    "import pandas as pd\n",
    "import matplotlib.pyplot as plt\n",
    "import seaborn as sns"
   ]
  },
  {
   "cell_type": "code",
   "execution_count": 15,
   "metadata": {},
   "outputs": [],
   "source": [
    "df = pd.read_csv(\"Sentiment.csv\")"
   ]
  },
  {
   "cell_type": "code",
   "execution_count": 16,
   "metadata": {},
   "outputs": [
    {
     "data": {
      "text/html": [
       "<div>\n",
       "<style scoped>\n",
       "    .dataframe tbody tr th:only-of-type {\n",
       "        vertical-align: middle;\n",
       "    }\n",
       "\n",
       "    .dataframe tbody tr th {\n",
       "        vertical-align: top;\n",
       "    }\n",
       "\n",
       "    .dataframe thead th {\n",
       "        text-align: right;\n",
       "    }\n",
       "</style>\n",
       "<table border=\"1\" class=\"dataframe\">\n",
       "  <thead>\n",
       "    <tr style=\"text-align: right;\">\n",
       "      <th></th>\n",
       "      <th>id</th>\n",
       "      <th>candidate</th>\n",
       "      <th>candidate_confidence</th>\n",
       "      <th>relevant_yn</th>\n",
       "      <th>relevant_yn_confidence</th>\n",
       "      <th>sentiment</th>\n",
       "      <th>sentiment_confidence</th>\n",
       "      <th>subject_matter</th>\n",
       "      <th>subject_matter_confidence</th>\n",
       "      <th>candidate_gold</th>\n",
       "      <th>...</th>\n",
       "      <th>relevant_yn_gold</th>\n",
       "      <th>retweet_count</th>\n",
       "      <th>sentiment_gold</th>\n",
       "      <th>subject_matter_gold</th>\n",
       "      <th>text</th>\n",
       "      <th>tweet_coord</th>\n",
       "      <th>tweet_created</th>\n",
       "      <th>tweet_id</th>\n",
       "      <th>tweet_location</th>\n",
       "      <th>user_timezone</th>\n",
       "    </tr>\n",
       "  </thead>\n",
       "  <tbody>\n",
       "    <tr>\n",
       "      <th>1552</th>\n",
       "      <td>1553</td>\n",
       "      <td>No candidate mentioned</td>\n",
       "      <td>0.4539</td>\n",
       "      <td>yes</td>\n",
       "      <td>0.6737</td>\n",
       "      <td>Positive</td>\n",
       "      <td>0.3474</td>\n",
       "      <td>None of the above</td>\n",
       "      <td>0.4539</td>\n",
       "      <td>NaN</td>\n",
       "      <td>...</td>\n",
       "      <td>NaN</td>\n",
       "      <td>0</td>\n",
       "      <td>NaN</td>\n",
       "      <td>NaN</td>\n",
       "      <td>Support 1 U like #TCOT This is STILL America b...</td>\n",
       "      <td>NaN</td>\n",
       "      <td>2015-08-07 09:40:07 -0700</td>\n",
       "      <td>629693514331389952</td>\n",
       "      <td>America</td>\n",
       "      <td>NaN</td>\n",
       "    </tr>\n",
       "    <tr>\n",
       "      <th>2553</th>\n",
       "      <td>2554</td>\n",
       "      <td>Ted Cruz</td>\n",
       "      <td>0.3941</td>\n",
       "      <td>yes</td>\n",
       "      <td>0.6277</td>\n",
       "      <td>Positive</td>\n",
       "      <td>0.6277</td>\n",
       "      <td>None of the above</td>\n",
       "      <td>0.3941</td>\n",
       "      <td>NaN</td>\n",
       "      <td>...</td>\n",
       "      <td>NaN</td>\n",
       "      <td>7</td>\n",
       "      <td>NaN</td>\n",
       "      <td>NaN</td>\n",
       "      <td>RT @Laural4705: #GOPDebate my opinion, cruz ha...</td>\n",
       "      <td>NaN</td>\n",
       "      <td>2015-08-07 09:29:28 -0700</td>\n",
       "      <td>629690835152568320</td>\n",
       "      <td>SE Georgia, USA</td>\n",
       "      <td>Eastern Time (US &amp; Canada)</td>\n",
       "    </tr>\n",
       "    <tr>\n",
       "      <th>2735</th>\n",
       "      <td>2736</td>\n",
       "      <td>No candidate mentioned</td>\n",
       "      <td>1.0000</td>\n",
       "      <td>yes</td>\n",
       "      <td>1.0000</td>\n",
       "      <td>Negative</td>\n",
       "      <td>0.6818</td>\n",
       "      <td>Jobs and Economy</td>\n",
       "      <td>1.0000</td>\n",
       "      <td>NaN</td>\n",
       "      <td>...</td>\n",
       "      <td>NaN</td>\n",
       "      <td>0</td>\n",
       "      <td>NaN</td>\n",
       "      <td>NaN</td>\n",
       "      <td>Hmm, just found out that as CEO of HP, Carly F...</td>\n",
       "      <td>NaN</td>\n",
       "      <td>2015-08-07 09:27:22 -0700</td>\n",
       "      <td>629690306687012864</td>\n",
       "      <td>United States</td>\n",
       "      <td>Pacific Time (US &amp; Canada)</td>\n",
       "    </tr>\n",
       "    <tr>\n",
       "      <th>1274</th>\n",
       "      <td>1275</td>\n",
       "      <td>No candidate mentioned</td>\n",
       "      <td>1.0000</td>\n",
       "      <td>yes</td>\n",
       "      <td>1.0000</td>\n",
       "      <td>Positive</td>\n",
       "      <td>1.0000</td>\n",
       "      <td>None of the above</td>\n",
       "      <td>0.6386</td>\n",
       "      <td>NaN</td>\n",
       "      <td>...</td>\n",
       "      <td>NaN</td>\n",
       "      <td>0</td>\n",
       "      <td>NaN</td>\n",
       "      <td>NaN</td>\n",
       "      <td>@CarlyFiorina heard some  of your response fro...</td>\n",
       "      <td>NaN</td>\n",
       "      <td>2015-08-07 09:43:15 -0700</td>\n",
       "      <td>629694302227070976</td>\n",
       "      <td>Birmingham,Al</td>\n",
       "      <td>Central Time (US &amp; Canada)</td>\n",
       "    </tr>\n",
       "    <tr>\n",
       "      <th>3715</th>\n",
       "      <td>3716</td>\n",
       "      <td>No candidate mentioned</td>\n",
       "      <td>0.4444</td>\n",
       "      <td>yes</td>\n",
       "      <td>0.6667</td>\n",
       "      <td>Negative</td>\n",
       "      <td>0.6667</td>\n",
       "      <td>Women's Issues (not abortion though)</td>\n",
       "      <td>0.4444</td>\n",
       "      <td>NaN</td>\n",
       "      <td>...</td>\n",
       "      <td>NaN</td>\n",
       "      <td>110</td>\n",
       "      <td>NaN</td>\n",
       "      <td>NaN</td>\n",
       "      <td>RT @whereisnatasha: What does the #GOPDebate h...</td>\n",
       "      <td>NaN</td>\n",
       "      <td>2015-08-07 09:15:43 -0700</td>\n",
       "      <td>629687371525591040</td>\n",
       "      <td>NaN</td>\n",
       "      <td>Eastern Time (US &amp; Canada)</td>\n",
       "    </tr>\n",
       "  </tbody>\n",
       "</table>\n",
       "<p>5 rows × 21 columns</p>\n",
       "</div>"
      ],
      "text/plain": [
       "        id               candidate  candidate_confidence relevant_yn  \\\n",
       "1552  1553  No candidate mentioned                0.4539         yes   \n",
       "2553  2554                Ted Cruz                0.3941         yes   \n",
       "2735  2736  No candidate mentioned                1.0000         yes   \n",
       "1274  1275  No candidate mentioned                1.0000         yes   \n",
       "3715  3716  No candidate mentioned                0.4444         yes   \n",
       "\n",
       "      relevant_yn_confidence sentiment  sentiment_confidence  \\\n",
       "1552                  0.6737  Positive                0.3474   \n",
       "2553                  0.6277  Positive                0.6277   \n",
       "2735                  1.0000  Negative                0.6818   \n",
       "1274                  1.0000  Positive                1.0000   \n",
       "3715                  0.6667  Negative                0.6667   \n",
       "\n",
       "                            subject_matter  subject_matter_confidence  \\\n",
       "1552                     None of the above                     0.4539   \n",
       "2553                     None of the above                     0.3941   \n",
       "2735                      Jobs and Economy                     1.0000   \n",
       "1274                     None of the above                     0.6386   \n",
       "3715  Women's Issues (not abortion though)                     0.4444   \n",
       "\n",
       "     candidate_gold  ... relevant_yn_gold retweet_count  sentiment_gold  \\\n",
       "1552            NaN  ...              NaN             0             NaN   \n",
       "2553            NaN  ...              NaN             7             NaN   \n",
       "2735            NaN  ...              NaN             0             NaN   \n",
       "1274            NaN  ...              NaN             0             NaN   \n",
       "3715            NaN  ...              NaN           110             NaN   \n",
       "\n",
       "     subject_matter_gold                                               text  \\\n",
       "1552                 NaN  Support 1 U like #TCOT This is STILL America b...   \n",
       "2553                 NaN  RT @Laural4705: #GOPDebate my opinion, cruz ha...   \n",
       "2735                 NaN  Hmm, just found out that as CEO of HP, Carly F...   \n",
       "1274                 NaN  @CarlyFiorina heard some  of your response fro...   \n",
       "3715                 NaN  RT @whereisnatasha: What does the #GOPDebate h...   \n",
       "\n",
       "     tweet_coord              tweet_created            tweet_id  \\\n",
       "1552         NaN  2015-08-07 09:40:07 -0700  629693514331389952   \n",
       "2553         NaN  2015-08-07 09:29:28 -0700  629690835152568320   \n",
       "2735         NaN  2015-08-07 09:27:22 -0700  629690306687012864   \n",
       "1274         NaN  2015-08-07 09:43:15 -0700  629694302227070976   \n",
       "3715         NaN  2015-08-07 09:15:43 -0700  629687371525591040   \n",
       "\n",
       "       tweet_location               user_timezone  \n",
       "1552          America                         NaN  \n",
       "2553  SE Georgia, USA  Eastern Time (US & Canada)  \n",
       "2735    United States  Pacific Time (US & Canada)  \n",
       "1274    Birmingham,Al  Central Time (US & Canada)  \n",
       "3715              NaN  Eastern Time (US & Canada)  \n",
       "\n",
       "[5 rows x 21 columns]"
      ]
     },
     "execution_count": 16,
     "metadata": {},
     "output_type": "execute_result"
    }
   ],
   "source": [
    "df.sample(5)"
   ]
  },
  {
   "cell_type": "code",
   "execution_count": 17,
   "metadata": {},
   "outputs": [
    {
     "data": {
      "text/plain": [
       "id                           13871\n",
       "candidate                    13775\n",
       "candidate_confidence         13871\n",
       "relevant_yn                  13871\n",
       "relevant_yn_confidence       13871\n",
       "sentiment                    13871\n",
       "sentiment_confidence         13871\n",
       "subject_matter               13545\n",
       "subject_matter_confidence    13871\n",
       "candidate_gold                  28\n",
       "name                         13871\n",
       "relevant_yn_gold                32\n",
       "retweet_count                13871\n",
       "sentiment_gold                  15\n",
       "subject_matter_gold             18\n",
       "text                         13871\n",
       "tweet_coord                     21\n",
       "tweet_created                13871\n",
       "tweet_id                     13871\n",
       "tweet_location                9959\n",
       "user_timezone                 9468\n",
       "dtype: int64"
      ]
     },
     "execution_count": 17,
     "metadata": {},
     "output_type": "execute_result"
    }
   ],
   "source": [
    "df.count()"
   ]
  },
  {
   "cell_type": "code",
   "execution_count": 18,
   "metadata": {},
   "outputs": [
    {
     "data": {
      "text/plain": [
       "(13871, 21)"
      ]
     },
     "execution_count": 18,
     "metadata": {},
     "output_type": "execute_result"
    }
   ],
   "source": [
    "# Checking the Shape of Dataset\n",
    "df.shape "
   ]
  },
  {
   "cell_type": "code",
   "execution_count": 19,
   "metadata": {},
   "outputs": [
    {
     "name": "stdout",
     "output_type": "stream",
     "text": [
      "<class 'pandas.core.frame.DataFrame'>\n",
      "RangeIndex: 13871 entries, 0 to 13870\n",
      "Data columns (total 21 columns):\n",
      " #   Column                     Non-Null Count  Dtype  \n",
      "---  ------                     --------------  -----  \n",
      " 0   id                         13871 non-null  int64  \n",
      " 1   candidate                  13775 non-null  object \n",
      " 2   candidate_confidence       13871 non-null  float64\n",
      " 3   relevant_yn                13871 non-null  object \n",
      " 4   relevant_yn_confidence     13871 non-null  float64\n",
      " 5   sentiment                  13871 non-null  object \n",
      " 6   sentiment_confidence       13871 non-null  float64\n",
      " 7   subject_matter             13545 non-null  object \n",
      " 8   subject_matter_confidence  13871 non-null  float64\n",
      " 9   candidate_gold             28 non-null     object \n",
      " 10  name                       13871 non-null  object \n",
      " 11  relevant_yn_gold           32 non-null     object \n",
      " 12  retweet_count              13871 non-null  int64  \n",
      " 13  sentiment_gold             15 non-null     object \n",
      " 14  subject_matter_gold        18 non-null     object \n",
      " 15  text                       13871 non-null  object \n",
      " 16  tweet_coord                21 non-null     object \n",
      " 17  tweet_created              13871 non-null  object \n",
      " 18  tweet_id                   13871 non-null  int64  \n",
      " 19  tweet_location             9959 non-null   object \n",
      " 20  user_timezone              9468 non-null   object \n",
      "dtypes: float64(4), int64(3), object(14)\n",
      "memory usage: 2.2+ MB\n"
     ]
    }
   ],
   "source": [
    "# Getting detail on the feature of the dataframe\n",
    "df.info()"
   ]
  },
  {
   "cell_type": "code",
   "execution_count": 23,
   "metadata": {},
   "outputs": [
    {
     "name": "stdout",
     "output_type": "stream",
     "text": [
      "id = 0 int64\n",
      "candidate = 96 object\n",
      "candidate_confidence = 0 float64\n",
      "relevant_yn = 0 object\n",
      "relevant_yn_confidence = 0 float64\n",
      "sentiment = 0 object\n",
      "sentiment_confidence = 0 float64\n",
      "subject_matter = 326 object\n",
      "subject_matter_confidence = 0 float64\n",
      "name = 0 object\n",
      "retweet_count = 0 int64\n",
      "text = 0 object\n",
      "tweet_created = 0 object\n",
      "tweet_id = 0 int64\n",
      "tweet_location = 3912 object\n",
      "user_timezone = 4403 object\n"
     ]
    }
   ],
   "source": [
    "for i in df.columns:\n",
    "    print(i,'=',df[i].isnull().sum(),df[i].dtype)"
   ]
  },
  {
   "cell_type": "code",
   "execution_count": null,
   "metadata": {},
   "outputs": [],
   "source": []
  },
  {
   "cell_type": "code",
   "execution_count": 21,
   "metadata": {},
   "outputs": [],
   "source": [
    "# Dropping Useless Columns\n",
    "\n",
    "df.drop('candidate_gold', inplace = True, axis = 1)\n",
    "df.drop('relevant_yn_gold', inplace = True, axis = 1)\n",
    "df.drop('sentiment_gold', inplace = True, axis = 1)\n",
    "df.drop('subject_matter_gold', inplace = True, axis = 1)\n",
    "df.drop('tweet_coord',inplace = True, axis = 1)"
   ]
  },
  {
   "cell_type": "code",
   "execution_count": 22,
   "metadata": {},
   "outputs": [
    {
     "name": "stdout",
     "output_type": "stream",
     "text": [
      "<class 'pandas.core.frame.DataFrame'>\n",
      "RangeIndex: 13871 entries, 0 to 13870\n",
      "Data columns (total 16 columns):\n",
      " #   Column                     Non-Null Count  Dtype  \n",
      "---  ------                     --------------  -----  \n",
      " 0   id                         13871 non-null  int64  \n",
      " 1   candidate                  13775 non-null  object \n",
      " 2   candidate_confidence       13871 non-null  float64\n",
      " 3   relevant_yn                13871 non-null  object \n",
      " 4   relevant_yn_confidence     13871 non-null  float64\n",
      " 5   sentiment                  13871 non-null  object \n",
      " 6   sentiment_confidence       13871 non-null  float64\n",
      " 7   subject_matter             13545 non-null  object \n",
      " 8   subject_matter_confidence  13871 non-null  float64\n",
      " 9   name                       13871 non-null  object \n",
      " 10  retweet_count              13871 non-null  int64  \n",
      " 11  text                       13871 non-null  object \n",
      " 12  tweet_created              13871 non-null  object \n",
      " 13  tweet_id                   13871 non-null  int64  \n",
      " 14  tweet_location             9959 non-null   object \n",
      " 15  user_timezone              9468 non-null   object \n",
      "dtypes: float64(4), int64(3), object(9)\n",
      "memory usage: 1.7+ MB\n"
     ]
    }
   ],
   "source": [
    "df.info()"
   ]
  },
  {
   "cell_type": "code",
   "execution_count": 26,
   "metadata": {},
   "outputs": [
    {
     "data": {
      "text/plain": [
       "<AxesSubplot:>"
      ]
     },
     "execution_count": 26,
     "metadata": {},
     "output_type": "execute_result"
    },
    {
     "data": {
      "image/png": "[encoded data removed]",
      "text/plain": [
       "<Figure size 432x288 with 2 Axes>"
      ]
     },
     "metadata": {
      "needs_background": "light"
     },
     "output_type": "display_data"
    }
   ],
   "source": [
    "# Checking visually for missing values\n",
    "sns.heatmap(df.isnull(),yticklabels=False,cmap=\"viridis\")"
   ]
  },
  {
   "cell_type": "code",
   "execution_count": 27,
   "metadata": {},
   "outputs": [],
   "source": [
    "# Treating Missing Values:\n",
    "for i in df.columns:\n",
    "    if df[i].dtype in [\"int64\",\"float64\"]:\n",
    "        df[i].fillna(df[i].median(),inplace=True)\n",
    "    else:\n",
    "        df[i].fillna(df[i].mode()[0],inplace=True)"
   ]
  },
  {
   "cell_type": "code",
   "execution_count": 28,
   "metadata": {},
   "outputs": [
    {
     "data": {
      "text/plain": [
       "<AxesSubplot:>"
      ]
     },
     "execution_count": 28,
     "metadata": {},
     "output_type": "execute_result"
    },
    {
     "data": {
      "image/png": "[encoded data removed]",
      "text/plain": [
       "<Figure size 432x288 with 2 Axes>"
      ]
     },
     "metadata": {
      "needs_background": "light"
     },
     "output_type": "display_data"
    }
   ],
   "source": [
    "# Rechecking visually for missing values\n",
    "sns.heatmap(df.isnull(),yticklabels=False,cmap=\"viridis\")"
   ]
  },
  {
   "cell_type": "code",
   "execution_count": 29,
   "metadata": {},
   "outputs": [
    {
     "name": "stdout",
     "output_type": "stream",
     "text": [
      "id = 0 int64\n",
      "candidate = 0 object\n",
      "candidate_confidence = 0 float64\n",
      "relevant_yn = 0 object\n",
      "relevant_yn_confidence = 0 float64\n",
      "sentiment = 0 object\n",
      "sentiment_confidence = 0 float64\n",
      "subject_matter = 0 object\n",
      "subject_matter_confidence = 0 float64\n",
      "name = 0 object\n",
      "retweet_count = 0 int64\n",
      "text = 0 object\n",
      "tweet_created = 0 object\n",
      "tweet_id = 0 int64\n",
      "tweet_location = 0 object\n",
      "user_timezone = 0 object\n"
     ]
    }
   ],
   "source": [
    "# Rechecking for missing values\n",
    "for i in df.columns:\n",
    "    print(i,'=',df[i].isnull().sum(),df[i].dtype)"
   ]
  },
  {
   "cell_type": "markdown",
   "metadata": {},
   "source": [
    "# Missing values are dealt with"
   ]
  },
  {
   "cell_type": "code",
   "execution_count": null,
   "metadata": {},
   "outputs": [],
   "source": []
  },
  {
   "cell_type": "code",
   "execution_count": 31,
   "metadata": {},
   "outputs": [
    {
     "data": {
      "text/html": [
       "<div>\n",
       "<style scoped>\n",
       "    .dataframe tbody tr th:only-of-type {\n",
       "        vertical-align: middle;\n",
       "    }\n",
       "\n",
       "    .dataframe tbody tr th {\n",
       "        vertical-align: top;\n",
       "    }\n",
       "\n",
       "    .dataframe thead th {\n",
       "        text-align: right;\n",
       "    }\n",
       "</style>\n",
       "<table border=\"1\" class=\"dataframe\">\n",
       "  <thead>\n",
       "    <tr style=\"text-align: right;\">\n",
       "      <th></th>\n",
       "      <th>id</th>\n",
       "      <th>candidate</th>\n",
       "      <th>candidate_confidence</th>\n",
       "      <th>relevant_yn</th>\n",
       "      <th>relevant_yn_confidence</th>\n",
       "      <th>sentiment</th>\n",
       "      <th>sentiment_confidence</th>\n",
       "      <th>subject_matter</th>\n",
       "      <th>subject_matter_confidence</th>\n",
       "      <th>name</th>\n",
       "      <th>retweet_count</th>\n",
       "      <th>text</th>\n",
       "      <th>tweet_created</th>\n",
       "      <th>tweet_id</th>\n",
       "      <th>tweet_location</th>\n",
       "      <th>user_timezone</th>\n",
       "    </tr>\n",
       "  </thead>\n",
       "  <tbody>\n",
       "    <tr>\n",
       "      <th>0</th>\n",
       "      <td>1</td>\n",
       "      <td>No candidate mentioned</td>\n",
       "      <td>1.0</td>\n",
       "      <td>yes</td>\n",
       "      <td>1.0</td>\n",
       "      <td>Neutral</td>\n",
       "      <td>0.6578</td>\n",
       "      <td>None of the above</td>\n",
       "      <td>1.0</td>\n",
       "      <td>I_Am_Kenzi</td>\n",
       "      <td>5</td>\n",
       "      <td>RT @NancyLeeGrahn: How did everyone feel about...</td>\n",
       "      <td>2015-08-07 09:54:46 -0700</td>\n",
       "      <td>629697200650592256</td>\n",
       "      <td>USA</td>\n",
       "      <td>Quito</td>\n",
       "    </tr>\n",
       "    <tr>\n",
       "      <th>1</th>\n",
       "      <td>2</td>\n",
       "      <td>Scott Walker</td>\n",
       "      <td>1.0</td>\n",
       "      <td>yes</td>\n",
       "      <td>1.0</td>\n",
       "      <td>Positive</td>\n",
       "      <td>0.6333</td>\n",
       "      <td>None of the above</td>\n",
       "      <td>1.0</td>\n",
       "      <td>PeacefulQuest</td>\n",
       "      <td>26</td>\n",
       "      <td>RT @ScottWalker: Didn't catch the full #GOPdeb...</td>\n",
       "      <td>2015-08-07 09:54:46 -0700</td>\n",
       "      <td>629697199560069120</td>\n",
       "      <td>USA</td>\n",
       "      <td>Eastern Time (US &amp; Canada)</td>\n",
       "    </tr>\n",
       "  </tbody>\n",
       "</table>\n",
       "</div>"
      ],
      "text/plain": [
       "   id               candidate  candidate_confidence relevant_yn  \\\n",
       "0   1  No candidate mentioned                   1.0         yes   \n",
       "1   2            Scott Walker                   1.0         yes   \n",
       "\n",
       "   relevant_yn_confidence sentiment  sentiment_confidence     subject_matter  \\\n",
       "0                     1.0   Neutral                0.6578  None of the above   \n",
       "1                     1.0  Positive                0.6333  None of the above   \n",
       "\n",
       "   subject_matter_confidence           name  retweet_count  \\\n",
       "0                        1.0     I_Am_Kenzi              5   \n",
       "1                        1.0  PeacefulQuest             26   \n",
       "\n",
       "                                                text  \\\n",
       "0  RT @NancyLeeGrahn: How did everyone feel about...   \n",
       "1  RT @ScottWalker: Didn't catch the full #GOPdeb...   \n",
       "\n",
       "               tweet_created            tweet_id tweet_location  \\\n",
       "0  2015-08-07 09:54:46 -0700  629697200650592256            USA   \n",
       "1  2015-08-07 09:54:46 -0700  629697199560069120            USA   \n",
       "\n",
       "                user_timezone  \n",
       "0                       Quito  \n",
       "1  Eastern Time (US & Canada)  "
      ]
     },
     "execution_count": 31,
     "metadata": {},
     "output_type": "execute_result"
    }
   ],
   "source": [
    "df.head(2)"
   ]
  },
  {
   "cell_type": "markdown",
   "metadata": {},
   "source": [
    "### Filling NaN values"
   ]
  },
  {
   "cell_type": "markdown",
   "metadata": {},
   "source": [
    "# Task Q1. Print the total number of positive and negative sentiments."
   ]
  },
  {
   "cell_type": "code",
   "execution_count": 32,
   "metadata": {},
   "outputs": [
    {
     "data": {
      "text/plain": [
       "Negative    8493\n",
       "Neutral     3142\n",
       "Positive    2236\n",
       "Name: sentiment, dtype: int64"
      ]
     },
     "execution_count": 32,
     "metadata": {},
     "output_type": "execute_result"
    }
   ],
   "source": [
    "mood_count = df['sentiment'].value_counts()\n",
    "mood_count"
   ]
  },
  {
   "cell_type": "markdown",
   "metadata": {},
   "source": [
    "# Task Q1 Completed"
   ]
  },
  {
   "cell_type": "markdown",
   "metadata": {},
   "source": [
    "# Task Q2. Build a sequential LSTM model to predict positive and negative sentiments."
   ]
  },
  {
   "cell_type": "code",
   "execution_count": 34,
   "metadata": {},
   "outputs": [
    {
     "data": {
      "text/html": [
       "<div>\n",
       "<style scoped>\n",
       "    .dataframe tbody tr th:only-of-type {\n",
       "        vertical-align: middle;\n",
       "    }\n",
       "\n",
       "    .dataframe tbody tr th {\n",
       "        vertical-align: top;\n",
       "    }\n",
       "\n",
       "    .dataframe thead th {\n",
       "        text-align: right;\n",
       "    }\n",
       "</style>\n",
       "<table border=\"1\" class=\"dataframe\">\n",
       "  <thead>\n",
       "    <tr style=\"text-align: right;\">\n",
       "      <th></th>\n",
       "      <th>id</th>\n",
       "      <th>candidate</th>\n",
       "      <th>candidate_confidence</th>\n",
       "      <th>relevant_yn</th>\n",
       "      <th>relevant_yn_confidence</th>\n",
       "      <th>sentiment</th>\n",
       "      <th>sentiment_confidence</th>\n",
       "      <th>subject_matter</th>\n",
       "      <th>subject_matter_confidence</th>\n",
       "      <th>name</th>\n",
       "      <th>retweet_count</th>\n",
       "      <th>text</th>\n",
       "      <th>tweet_created</th>\n",
       "      <th>tweet_id</th>\n",
       "      <th>tweet_location</th>\n",
       "      <th>user_timezone</th>\n",
       "    </tr>\n",
       "  </thead>\n",
       "  <tbody>\n",
       "    <tr>\n",
       "      <th>0</th>\n",
       "      <td>1</td>\n",
       "      <td>No candidate mentioned</td>\n",
       "      <td>1.0</td>\n",
       "      <td>yes</td>\n",
       "      <td>1.0</td>\n",
       "      <td>1</td>\n",
       "      <td>0.6578</td>\n",
       "      <td>None of the above</td>\n",
       "      <td>1.0</td>\n",
       "      <td>I_Am_Kenzi</td>\n",
       "      <td>5</td>\n",
       "      <td>RT @NancyLeeGrahn: How did everyone feel about...</td>\n",
       "      <td>2015-08-07 09:54:46 -0700</td>\n",
       "      <td>629697200650592256</td>\n",
       "      <td>USA</td>\n",
       "      <td>Quito</td>\n",
       "    </tr>\n",
       "    <tr>\n",
       "      <th>1</th>\n",
       "      <td>2</td>\n",
       "      <td>Scott Walker</td>\n",
       "      <td>1.0</td>\n",
       "      <td>yes</td>\n",
       "      <td>1.0</td>\n",
       "      <td>2</td>\n",
       "      <td>0.6333</td>\n",
       "      <td>None of the above</td>\n",
       "      <td>1.0</td>\n",
       "      <td>PeacefulQuest</td>\n",
       "      <td>26</td>\n",
       "      <td>RT @ScottWalker: Didn't catch the full #GOPdeb...</td>\n",
       "      <td>2015-08-07 09:54:46 -0700</td>\n",
       "      <td>629697199560069120</td>\n",
       "      <td>USA</td>\n",
       "      <td>Eastern Time (US &amp; Canada)</td>\n",
       "    </tr>\n",
       "  </tbody>\n",
       "</table>\n",
       "</div>"
      ],
      "text/plain": [
       "   id               candidate  candidate_confidence relevant_yn  \\\n",
       "0   1  No candidate mentioned                   1.0         yes   \n",
       "1   2            Scott Walker                   1.0         yes   \n",
       "\n",
       "   relevant_yn_confidence  sentiment  sentiment_confidence     subject_matter  \\\n",
       "0                     1.0          1                0.6578  None of the above   \n",
       "1                     1.0          2                0.6333  None of the above   \n",
       "\n",
       "   subject_matter_confidence           name  retweet_count  \\\n",
       "0                        1.0     I_Am_Kenzi              5   \n",
       "1                        1.0  PeacefulQuest             26   \n",
       "\n",
       "                                                text  \\\n",
       "0  RT @NancyLeeGrahn: How did everyone feel about...   \n",
       "1  RT @ScottWalker: Didn't catch the full #GOPdeb...   \n",
       "\n",
       "               tweet_created            tweet_id tweet_location  \\\n",
       "0  2015-08-07 09:54:46 -0700  629697200650592256            USA   \n",
       "1  2015-08-07 09:54:46 -0700  629697199560069120            USA   \n",
       "\n",
       "                user_timezone  \n",
       "0                       Quito  \n",
       "1  Eastern Time (US & Canada)  "
      ]
     },
     "execution_count": 34,
     "metadata": {},
     "output_type": "execute_result"
    }
   ],
   "source": [
    "from sklearn.preprocessing import LabelEncoder\n",
    "le = LabelEncoder()\n",
    "df['sentiment'] = le.fit_transform(df['sentiment'])\n",
    "df.head(2)"
   ]
  },
  {
   "cell_type": "code",
   "execution_count": 35,
   "metadata": {},
   "outputs": [],
   "source": [
    "import re\n",
    "import nltk\n",
    "from nltk.corpus import stopwords"
   ]
  },
  {
   "cell_type": "code",
   "execution_count": 36,
   "metadata": {},
   "outputs": [
    {
     "name": "stderr",
     "output_type": "stream",
     "text": [
      "[nltk_data] Downloading package stopwords to\n",
      "[nltk_data]     C:\\Users\\roshs\\AppData\\Roaming\\nltk_data...\n",
      "[nltk_data]   Package stopwords is already up-to-date!\n"
     ]
    }
   ],
   "source": [
    "import nltk \n",
    "nltk.download('stopwords')\n",
    "def tweet_to_words(raw_tweet):\n",
    "    letters_only = re.sub(\"[^a-zA-Z]\", \" \",raw_tweet) \n",
    "    words = letters_only.lower().split()                             \n",
    "    stops = set(stopwords.words(\"english\"))                  \n",
    "    meaningful_words = [w for w in words if not w in stops] \n",
    "    return( \" \".join( meaningful_words )) "
   ]
  },
  {
   "cell_type": "code",
   "execution_count": 37,
   "metadata": {},
   "outputs": [],
   "source": [
    "df['clean_tweet'] = df['text'].apply(lambda x: tweet_to_words(x))"
   ]
  },
  {
   "cell_type": "code",
   "execution_count": 38,
   "metadata": {},
   "outputs": [],
   "source": [
    "df_clean_tweet=[]\n",
    "for tweet in df['clean_tweet']:\n",
    "    df_clean_tweet.append(tweet)"
   ]
  },
  {
   "cell_type": "code",
   "execution_count": 41,
   "metadata": {},
   "outputs": [],
   "source": [
    "from sklearn.feature_extraction.text import CountVectorizer\n",
    "v = CountVectorizer(analyzer = \"word\")\n",
    "df_features= v.fit_transform(df_clean_tweet)"
   ]
  },
  {
   "cell_type": "code",
   "execution_count": 42,
   "metadata": {},
   "outputs": [
    {
     "data": {
      "text/plain": [
       "<13871x18866 sparse matrix of type '<class 'numpy.int64'>'\n",
       "\twith 155069 stored elements in Compressed Sparse Row format>"
      ]
     },
     "execution_count": 42,
     "metadata": {},
     "output_type": "execute_result"
    }
   ],
   "source": [
    "df_features"
   ]
  },
  {
   "cell_type": "code",
   "execution_count": 43,
   "metadata": {},
   "outputs": [],
   "source": [
    "from sklearn.naive_bayes import MultinomialNB"
   ]
  },
  {
   "cell_type": "code",
   "execution_count": 44,
   "metadata": {},
   "outputs": [],
   "source": [
    "nb = MultinomialNB()"
   ]
  },
  {
   "cell_type": "code",
   "execution_count": 45,
   "metadata": {},
   "outputs": [
    {
     "name": "stdout",
     "output_type": "stream",
     "text": [
      "0.8129190397231635\n"
     ]
    }
   ],
   "source": [
    "nb.fit(train_features,df['sentiment'])\n",
    "from sklearn.metrics import accuracy_score, confusion_matrix\n",
    "accuracy = accuracy_score(nb.predict(train_features),df['sentiment'])\n",
    "print(accuracy)"
   ]
  },
  {
   "cell_type": "code",
   "execution_count": 28,
   "metadata": {},
   "outputs": [
    {
     "data": {
      "text/plain": [
       "<3660x11471 sparse matrix of type '<class 'numpy.int64'>'\n",
       "\twith 33563 stored elements in Compressed Sparse Row format>"
      ]
     },
     "execution_count": 28,
     "metadata": {},
     "output_type": "execute_result"
    }
   ],
   "source": [
    "test_features"
   ]
  },
  {
   "cell_type": "code",
   "execution_count": null,
   "metadata": {},
   "outputs": [],
   "source": []
  },
  {
   "cell_type": "code",
   "execution_count": 30,
   "metadata": {},
   "outputs": [
    {
     "name": "stdout",
     "output_type": "stream",
     "text": [
      "['negative' 'negative' 'negative' ... 'neutral' 'positive' 'neutral']\n"
     ]
    }
   ],
   "source": [
    "test_pred = nb.predict(test_features)\n",
    "test_pred = le.inverse_transform(test_pred)\n",
    "print(test_pred)\n",
    "np.savetxt(\"test_pred.csv\",test_pred,fmt='%s')"
   ]
  },
  {
   "cell_type": "code",
   "execution_count": 31,
   "metadata": {},
   "outputs": [],
   "source": [
    "from sklearn.ensemble import RandomForestClassifier"
   ]
  },
  {
   "cell_type": "code",
   "execution_count": 32,
   "metadata": {},
   "outputs": [],
   "source": [
    "clf = RandomForestClassifier(n_estimators = 200)"
   ]
  },
  {
   "cell_type": "code",
   "execution_count": 33,
   "metadata": {},
   "outputs": [
    {
     "data": {
      "text/plain": [
       "<10980x11471 sparse matrix of type '<class 'numpy.int64'>'\n",
       "\twith 107004 stored elements in Compressed Sparse Row format>"
      ]
     },
     "execution_count": 33,
     "metadata": {},
     "output_type": "execute_result"
    }
   ],
   "source": [
    "train_features"
   ]
  },
  {
   "cell_type": "code",
   "execution_count": 34,
   "metadata": {},
   "outputs": [
    {
     "data": {
      "text/plain": [
       "RandomForestClassifier(bootstrap=True, class_weight=None, criterion='gini',\n",
       "                       max_depth=None, max_features='auto', max_leaf_nodes=None,\n",
       "                       min_impurity_decrease=0.0, min_impurity_split=None,\n",
       "                       min_samples_leaf=1, min_samples_split=2,\n",
       "                       min_weight_fraction_leaf=0.0, n_estimators=200,\n",
       "                       n_jobs=None, oob_score=False, random_state=None,\n",
       "                       verbose=0, warm_start=False)"
      ]
     },
     "execution_count": 34,
     "metadata": {},
     "output_type": "execute_result"
    }
   ],
   "source": [
    "clf.fit(train_features,train['airline_sentiment'])"
   ]
  },
  {
   "cell_type": "code",
   "execution_count": 35,
   "metadata": {},
   "outputs": [
    {
     "name": "stdout",
     "output_type": "stream",
     "text": [
      "0.995719489981785\n"
     ]
    }
   ],
   "source": [
    "from sklearn.metrics import accuracy_score, confusion_matrix\n",
    "accuracy = accuracy_score(clf.predict(train_features),train['airline_sentiment'])\n",
    "print(accuracy)"
   ]
  },
  {
   "cell_type": "code",
   "execution_count": 36,
   "metadata": {},
   "outputs": [],
   "source": [
    "test_pred = clf.predict(test_features)"
   ]
  },
  {
   "cell_type": "code",
   "execution_count": 37,
   "metadata": {},
   "outputs": [],
   "source": [
    "test_pred = le.inverse_transform(test_pred)"
   ]
  },
  {
   "cell_type": "code",
   "execution_count": 38,
   "metadata": {},
   "outputs": [],
   "source": [
    "np.savetxt(\"predicttwtit.csv\",test_pred,fmt='%s')"
   ]
  },
  {
   "cell_type": "code",
   "execution_count": 39,
   "metadata": {},
   "outputs": [
    {
     "name": "stdout",
     "output_type": "stream",
     "text": [
      "['negative' 'neutral' 'negative' ... 'neutral' 'positive' 'negative']\n"
     ]
    }
   ],
   "source": [
    "print(test_pred)"
   ]
  },
  {
   "cell_type": "code",
   "execution_count": null,
   "metadata": {},
   "outputs": [],
   "source": []
  }
 ],
 "metadata": {
  "kernelspec": {
   "display_name": "Python 3 (ipykernel)",
   "language": "python",
   "name": "python3"
  },
  "language_info": {
   "codemirror_mode": {
    "name": "ipython",
    "version": 3
   },
   "file_extension": ".py",
   "mimetype": "text/x-python",
   "name": "python",
   "nbconvert_exporter": "python",
   "pygments_lexer": "ipython3",
   "version": "3.9.7"
  }
 },
 "nbformat": 4,
 "nbformat_minor": 2
}
